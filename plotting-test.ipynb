{
 "cells": [
  {
   "cell_type": "markdown",
   "id": "7a86f2e9-bcb6-4fc9-9991-2c62c9496819",
   "metadata": {},
   "source": [
    "# i will test geopandas here"
   ]
  }
 ],
 "metadata": {
  "kernelspec": {
   "display_name": "Python [conda env:base] *",
   "language": "python",
   "name": "conda-base-py"
  },
  "language_info": {
   "codemirror_mode": {
    "name": "ipython",
    "version": 3
   },
   "file_extension": ".py",
   "mimetype": "text/x-python",
   "name": "python",
   "nbconvert_exporter": "python",
   "pygments_lexer": "ipython3",
   "version": "3.12.3"
  }
 },
 "nbformat": 4,
 "nbformat_minor": 5
}
